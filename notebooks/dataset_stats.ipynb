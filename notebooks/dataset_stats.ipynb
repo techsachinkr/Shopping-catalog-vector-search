{
  "cells": [
    {
      "cell_type": "code",
      "execution_count": null,
      "metadata": {
        "id": "Qbn03sbpzIts"
      },
      "outputs": [],
      "source": [
        "!pip install ipykernel\n",
        "!pip install pyarrow"
      ]
    },
    {
      "cell_type": "code",
      "execution_count": 11,
      "metadata": {},
      "outputs": [
        {
          "name": "stdout",
          "output_type": "stream",
          "text": [
            "Added c:\\Users\\sachi\\cursor projects\\Shopping-catalog-vector-search\\venv\\Lib\\site-packages to Python path\n"
          ]
        }
      ],
      "source": [
        "import sys,os\n",
        "venv_path = os.path.join(os.path.dirname(os.getcwd()), 'venv')\n",
        "if os.path.exists(venv_path):\n",
        "    # Add the venv to the path\n",
        "    venv_site_packages = os.path.join(venv_path, 'Lib', 'site-packages')\n",
        "    if venv_site_packages not in sys.path:\n",
        "        sys.path.insert(0, venv_site_packages)\n",
        "    print(f\"Added {venv_site_packages} to Python path\")\n",
        "else:\n",
        "    print(\"Virtual environment not found\")"
      ]
    },
    {
      "cell_type": "code",
      "execution_count": 21,
      "metadata": {},
      "outputs": [],
      "source": [
        "import pandas as pd\n",
        "base_dir_path=os.path.dirname(os.getcwd())"
      ]
    },
    {
      "cell_type": "code",
      "execution_count": 30,
      "metadata": {
        "id": "ZqmQdqqAznIu"
      },
      "outputs": [],
      "source": [
        "sampled_datavals_product=pd.read_parquet(os.path.join(base_dir_path,\"dataset/sampled_dataset/sampled_datavals_product_data.parquet\"))"
      ]
    },
    {
      "cell_type": "code",
      "execution_count": 31,
      "metadata": {
        "colab": {
          "base_uri": "https://localhost:8080/",
          "height": 293
        },
        "id": "pqa9ZmAY04rn",
        "outputId": "28b285e8-e178-415b-8a37-a92c35ff84b3"
      },
      "outputs": [
        {
          "data": {
            "text/html": [
              "<div>\n",
              "<style scoped>\n",
              "    .dataframe tbody tr th:only-of-type {\n",
              "        vertical-align: middle;\n",
              "    }\n",
              "\n",
              "    .dataframe tbody tr th {\n",
              "        vertical-align: top;\n",
              "    }\n",
              "\n",
              "    .dataframe thead th {\n",
              "        text-align: right;\n",
              "    }\n",
              "</style>\n",
              "<table border=\"1\" class=\"dataframe\">\n",
              "  <thead>\n",
              "    <tr style=\"text-align: right;\">\n",
              "      <th></th>\n",
              "      <th>product_id</th>\n",
              "      <th>product_title</th>\n",
              "      <th>product_description</th>\n",
              "      <th>product_bullet_point</th>\n",
              "      <th>product_brand</th>\n",
              "      <th>product_color</th>\n",
              "      <th>product_locale</th>\n",
              "      <th>ID</th>\n",
              "    </tr>\n",
              "  </thead>\n",
              "  <tbody>\n",
              "    <tr>\n",
              "      <th>215164</th>\n",
              "      <td>B0009R0626</td>\n",
              "      <td>Want Want Big Shelly Shenbei Snowy Crispy Rice...</td>\n",
              "      <td>Shelly Senbei is a delicious snack that you ca...</td>\n",
              "      <td>Want Want Big Shelly Shenbei Snowy Crispy Rice...</td>\n",
              "      <td>WANT</td>\n",
              "      <td>None</td>\n",
              "      <td>us</td>\n",
              "      <td>0</td>\n",
              "    </tr>\n",
              "    <tr>\n",
              "      <th>215166</th>\n",
              "      <td>B016U7HCM0</td>\n",
              "      <td>Golden Island Korean BBQ Pork Jerky, 3 oz.</td>\n",
              "      <td>None</td>\n",
              "      <td>One 3 oz. package of Korean BBQ Pork Jerky\\nAs...</td>\n",
              "      <td>Golden Island</td>\n",
              "      <td>None</td>\n",
              "      <td>us</td>\n",
              "      <td>1</td>\n",
              "    </tr>\n",
              "    <tr>\n",
              "      <th>215167</th>\n",
              "      <td>B01K9A9V50</td>\n",
              "      <td>Honey Butter Chips (Original, 3)</td>\n",
              "      <td>It is the honey butter chip that is the origin...</td>\n",
              "      <td>Potato Corn Snacks in Korea und Japan\\nIt is t...</td>\n",
              "      <td>Haitai</td>\n",
              "      <td>None</td>\n",
              "      <td>us</td>\n",
              "      <td>2</td>\n",
              "    </tr>\n",
              "    <tr>\n",
              "      <th>215169</th>\n",
              "      <td>B07BB1ZK7C</td>\n",
              "      <td>NUTS U.S. - Oriental Rice Crackers With Green ...</td>\n",
              "      <td>If you are a health cautious individual who li...</td>\n",
              "      <td>Rice Crackers With Green Peas in Resealable Ba...</td>\n",
              "      <td>NUTS - U.S. - HEALTH IN EVERY BITE !</td>\n",
              "      <td>None</td>\n",
              "      <td>us</td>\n",
              "      <td>3</td>\n",
              "    </tr>\n",
              "    <tr>\n",
              "      <th>215170</th>\n",
              "      <td>B07H1KD9FH</td>\n",
              "      <td>Oriental Rice Crackers, No Artificial Colors, ...</td>\n",
              "      <td>If you are a health cautious individual who li...</td>\n",
              "      <td>Natural Oriental Rice Crackers in Resealable B...</td>\n",
              "      <td>NUTS - U.S. - HEALTH IN EVERY BITE !</td>\n",
              "      <td>None</td>\n",
              "      <td>us</td>\n",
              "      <td>4</td>\n",
              "    </tr>\n",
              "  </tbody>\n",
              "</table>\n",
              "</div>"
            ],
            "text/plain": [
              "        product_id                                      product_title  \\\n",
              "215164  B0009R0626  Want Want Big Shelly Shenbei Snowy Crispy Rice...   \n",
              "215166  B016U7HCM0         Golden Island Korean BBQ Pork Jerky, 3 oz.   \n",
              "215167  B01K9A9V50                   Honey Butter Chips (Original, 3)   \n",
              "215169  B07BB1ZK7C  NUTS U.S. - Oriental Rice Crackers With Green ...   \n",
              "215170  B07H1KD9FH  Oriental Rice Crackers, No Artificial Colors, ...   \n",
              "\n",
              "                                      product_description  \\\n",
              "215164  Shelly Senbei is a delicious snack that you ca...   \n",
              "215166                                               None   \n",
              "215167  It is the honey butter chip that is the origin...   \n",
              "215169  If you are a health cautious individual who li...   \n",
              "215170  If you are a health cautious individual who li...   \n",
              "\n",
              "                                     product_bullet_point  \\\n",
              "215164  Want Want Big Shelly Shenbei Snowy Crispy Rice...   \n",
              "215166  One 3 oz. package of Korean BBQ Pork Jerky\\nAs...   \n",
              "215167  Potato Corn Snacks in Korea und Japan\\nIt is t...   \n",
              "215169  Rice Crackers With Green Peas in Resealable Ba...   \n",
              "215170  Natural Oriental Rice Crackers in Resealable B...   \n",
              "\n",
              "                               product_brand product_color product_locale  ID  \n",
              "215164                                  WANT          None             us   0  \n",
              "215166                         Golden Island          None             us   1  \n",
              "215167                                Haitai          None             us   2  \n",
              "215169  NUTS - U.S. - HEALTH IN EVERY BITE !          None             us   3  \n",
              "215170  NUTS - U.S. - HEALTH IN EVERY BITE !          None             us   4  "
            ]
          },
          "execution_count": 31,
          "metadata": {},
          "output_type": "execute_result"
        }
      ],
      "source": [
        "sampled_datavals_product.head()"
      ]
    },
    {
      "cell_type": "code",
      "execution_count": 32,
      "metadata": {
        "id": "bjbZsfp406dy"
      },
      "outputs": [],
      "source": [
        "import numpy as np\n",
        "\n",
        "def preprocess_text(text):\n",
        "    \"\"\"Clean and preprocess text.\"\"\"\n",
        "    text = str(text)\n",
        "    # Remove HTML tags\n",
        "    import re\n",
        "    text = re.sub(r'<[^>]+>', ' ', text)\n",
        "    # Remove special characters but keep basic punctuation\n",
        "    text = re.sub(r'[^\\w\\s\\-\\.\\,\\!\\?]', ' ', text)\n",
        "    # Remove extra whitespace\n",
        "    text = ' '.join(text.split())\n",
        "\n",
        "    return text.lower()\n",
        "\n",
        "def create_combined_text(products_df, product_cols):\n",
        "      \"\"\"Create combined text representations for each product.\"\"\"\n",
        "\n",
        "      print(\"\\nCreating combined text representations...\")\n",
        "      combined_texts = []\n",
        "      for _, row in products_df.iterrows():\n",
        "          text_parts = []\n",
        "          for col in product_cols:\n",
        "            curr_val=row[col]\n",
        "            if curr_val:\n",
        "              processed_text = preprocess_text(curr_val)\n",
        "              text_parts.append(processed_text)\n",
        "          combined_text = \" \".join(text_parts)\n",
        "          combined_texts.append(combined_text)\n",
        "\n",
        "      # Analyze text statistics\n",
        "      text_lengths = [len(text.split()) for text in combined_texts]\n",
        "      print(f\"Combined text statistics:\")\n",
        "      print(f\"  Average length: {np.mean(text_lengths):.2f} words\")\n",
        "      print(f\"  Std deviation: {np.std(text_lengths):.2f} words\")\n",
        "      print(f\"  Min length: {np.min(text_lengths)} words\")\n",
        "      print(f\"  Max length: {np.max(text_lengths)} words\")\n",
        "\n",
        "      return combined_texts"
      ]
    },
    {
      "cell_type": "code",
      "execution_count": 33,
      "metadata": {
        "colab": {
          "base_uri": "https://localhost:8080/"
        },
        "id": "m9OwBJ3-5aJN",
        "outputId": "050b21aa-9750-4175-ea2f-35e835bc2b91"
      },
      "outputs": [
        {
          "name": "stdout",
          "output_type": "stream",
          "text": [
            "\n",
            "Creating combined text representations...\n",
            "Combined text statistics:\n",
            "  Average length: 221.13 words\n",
            "  Std deviation: 161.93 words\n",
            "  Min length: 3 words\n",
            "  Max length: 691 words\n"
          ]
        }
      ],
      "source": [
        "cols=[\"product_title\",\"product_description\",\"product_bullet_point\",\"product_brand\",\"product_color\"]\n",
        "\n",
        "all_text=create_combined_text(sampled_datavals_product,cols)"
      ]
    },
    {
      "cell_type": "code",
      "execution_count": 34,
      "metadata": {
        "colab": {
          "base_uri": "https://localhost:8080/"
        },
        "id": "DrUfLuRX9prZ",
        "outputId": "876c0f58-3317-4bbf-a3f0-b189d4536eba"
      },
      "outputs": [
        {
          "data": {
            "text/plain": [
              "500"
            ]
          },
          "execution_count": 34,
          "metadata": {},
          "output_type": "execute_result"
        }
      ],
      "source": [
        "len(all_text)"
      ]
    },
    {
      "cell_type": "code",
      "execution_count": 35,
      "metadata": {
        "colab": {
          "base_uri": "https://localhost:8080/"
        },
        "id": "PdfYXra8KfpP",
        "outputId": "c41992e7-dc22-4b30-ab93-616fb5aef482"
      },
      "outputs": [
        {
          "data": {
            "text/plain": [
              "35"
            ]
          },
          "execution_count": 35,
          "metadata": {},
          "output_type": "execute_result"
        }
      ],
      "source": [
        "len(sampled_datavals_product[sampled_datavals_product[\"product_bullet_point\"].isna()])"
      ]
    },
    {
      "cell_type": "code",
      "execution_count": 36,
      "metadata": {
        "colab": {
          "base_uri": "https://localhost:8080/"
        },
        "id": "TMsUEAmha7PO",
        "outputId": "5405bead-1b00-48a8-e0b0-1d0ca86ed77d"
      },
      "outputs": [
        {
          "data": {
            "text/plain": [
              "221"
            ]
          },
          "execution_count": 36,
          "metadata": {},
          "output_type": "execute_result"
        }
      ],
      "source": [
        "len(sampled_datavals_product[sampled_datavals_product[\"product_description\"].isna()])"
      ]
    },
    {
      "cell_type": "code",
      "execution_count": 37,
      "metadata": {
        "colab": {
          "base_uri": "https://localhost:8080/"
        },
        "id": "wMPr22lER0fN",
        "outputId": "4cc77155-b671-4775-8044-769afd2f45de"
      },
      "outputs": [
        {
          "name": "stdout",
          "output_type": "stream",
          "text": [
            "\n",
            "Creating combined text representations...\n",
            "Combined text statistics:\n",
            "  Average length: 141.80 words\n",
            "  Std deviation: 90.17 words\n",
            "  Min length: 3 words\n",
            "  Max length: 448 words\n"
          ]
        }
      ],
      "source": [
        "cols=[\"product_title\",\"product_bullet_point\",\"product_brand\",\"product_color\"]\n",
        "all_text=create_combined_text(sampled_datavals_product,cols)"
      ]
    },
    {
      "cell_type": "code",
      "execution_count": null,
      "metadata": {},
      "outputs": [],
      "source": []
    }
  ],
  "metadata": {
    "colab": {
      "provenance": []
    },
    "kernelspec": {
      "display_name": "Python 3",
      "name": "python3"
    },
    "language_info": {
      "codemirror_mode": {
        "name": "ipython",
        "version": 3
      },
      "file_extension": ".py",
      "mimetype": "text/x-python",
      "name": "python",
      "nbconvert_exporter": "python",
      "pygments_lexer": "ipython3",
      "version": "3.12.3"
    }
  },
  "nbformat": 4,
  "nbformat_minor": 0
}
