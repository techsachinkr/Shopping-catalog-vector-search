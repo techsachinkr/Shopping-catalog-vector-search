{
 "cells": [
  {
   "cell_type": "code",
   "execution_count": null,
   "metadata": {},
   "outputs": [],
   "source": [
    "import sys,os\n",
    "venv_path = os.path.join(os.path.dirname(os.getcwd()), 'venv')\n",
    "if os.path.exists(venv_path):\n",
    "    # Add the venv to the path\n",
    "    venv_site_packages = os.path.join(venv_path, 'Lib', 'site-packages')\n",
    "    if venv_site_packages not in sys.path:\n",
    "        sys.path.insert(0, venv_site_packages)\n",
    "    print(f\"Added {venv_site_packages} to Python path\")\n",
    "else:\n",
    "    print(\"Virtual environment not found\")"
   ]
  },
  {
   "cell_type": "code",
   "execution_count": null,
   "metadata": {},
   "outputs": [],
   "source": [
    "import pandas as pd\n",
    "import os\n",
    "base_dir_path=os.path.dirname(os.getcwd())\n",
    "base_dir_path"
   ]
  },
  {
   "cell_type": "code",
   "execution_count": 15,
   "metadata": {},
   "outputs": [],
   "source": [
    "module_path = os.path.abspath(os.path.join('..'))\n",
    "if module_path not in sys.path:\n",
    "    sys.path.append(module_path)"
   ]
  },
  {
   "cell_type": "code",
   "execution_count": 26,
   "metadata": {},
   "outputs": [
    {
     "name": "stderr",
     "output_type": "stream",
     "text": [
      "INFO:sentence_transformers.SentenceTransformer:Use pytorch device_name: cpu\n",
      "INFO:sentence_transformers.SentenceTransformer:Load pretrained SentenceTransformer: intfloat/multilingual-e5-small\n",
      "INFO:src.embed_dataset:Model loaded. Embedding dimension: 384\n",
      "Batches: 100%|██████████| 1/1 [00:00<00:00, 24.69it/s]\n"
     ]
    },
    {
     "name": "stdout",
     "output_type": "stream",
     "text": [
      "[[0.2601393  0.26462764 0.26757807 0.27034277 0.27728617]]\n",
      "         product_id                                      product_title  \\\n",
      "753861   B018ES4D20  iPhone 6S Plus Wallet Case, Vena vCommute Drop...   \n",
      "753868   B07VSSSWRJ  Vena vLove Glitter Clear Case Compatible with ...   \n",
      "1360552  B01KUFDYCA  Vena vCommute Wallet Case Compatible with Appl...   \n",
      "1360553  B01KUFTXUM  Vena Wallet Case Compatible with iPhone 8 Plus...   \n",
      "1360560  B07V1XXWCG  Vena vCommute Wallet Case Compatible with Appl...   \n",
      "\n",
      "                                       product_description  \\\n",
      "753861                                                None   \n",
      "753868   Slim and Protective iPhone 11 Glitter Case Wit...   \n",
      "1360552                                               None   \n",
      "1360553                                               None   \n",
      "1360560  Patented iPhone 11 Wallet Case With Vena's pat...   \n",
      "\n",
      "                                      product_bullet_point product_brand  \\\n",
      "753861   [PATENTED design] Compatible with: Apple iPhon...          VENA   \n",
      "753868   [SLIM AND PROTECTIVE IPHONE 11 GLITTER CASE] T...          VENA   \n",
      "1360552  [PATENTED DESIGN IPHONE SE 2020, 8 , 7 WALLET ...          VENA   \n",
      "1360553  [PATENTED DESIGN IPHONE 7 PLUS WALLET CASE, IP...          VENA   \n",
      "1360560  [PATENTED DESIGN IPHONE 11 WALLET CASE] vCommu...          VENA   \n",
      "\n",
      "              product_color product_locale   ID  \n",
      "753861   Space Gray / Black             us  200  \n",
      "753868                 Teal             us  203  \n",
      "1360552         Space Black             us  349  \n",
      "1360553  Space Gray / Black             us  350  \n",
      "1360560        Gray / Black             us  352  \n",
      "         example_id             query  query_id  product_id product_locale  \\\n",
      "2111731     2111731  vena iphone case    108170  B07VSSSWRJ             us   \n",
      "2111732     2111732  vena iphone case    108170  B07V1XXWCG             us   \n",
      "2111733     2111733  vena iphone case    108170  B07TYG9F5H             us   \n",
      "2111734     2111734  vena iphone case    108170  B07NZ8LXGK             us   \n",
      "2111735     2111735  vena iphone case    108170  B07JN3QHG1             us   \n",
      "2111737     2111737  vena iphone case    108170  B07HB91B2R             us   \n",
      "2111738     2111738  vena iphone case    108170  B07VQWDBCG             us   \n",
      "2111740     2111740  vena iphone case    108170  B075JN7JZC             us   \n",
      "2111741     2111741  vena iphone case    108170  B01KUFTXUM             us   \n",
      "2111742     2111742  vena iphone case    108170  B01KUFDYCA             us   \n",
      "2111743     2111743  vena iphone case    108170  B01KGNAGSQ             us   \n",
      "2111744     2111744  vena iphone case    108170  B018ES4D20             us   \n",
      "2111745     2111745  vena iphone case    108170  B015P4OQZ0             us   \n",
      "2111746     2111746  vena iphone case    108170  B078HZZF41             us   \n",
      "\n",
      "        esci_label  small_version  large_version  split  \n",
      "2111731          E              0              1  train  \n",
      "2111732          E              0              1  train  \n",
      "2111733          E              0              1  train  \n",
      "2111734          E              0              1  train  \n",
      "2111735          E              0              1  train  \n",
      "2111737          E              0              1  train  \n",
      "2111738          E              0              1  train  \n",
      "2111740          E              0              1  train  \n",
      "2111741          E              0              1  train  \n",
      "2111742          E              0              1  train  \n",
      "2111743          E              0              1  train  \n",
      "2111744          E              0              1  train  \n",
      "2111745          E              0              1  train  \n",
      "2111746          E              0              1  train  \n"
     ]
    }
   ],
   "source": [
    "import os\n",
    "import pandas as pd\n",
    "import faiss\n",
    "from src.embed_dataset import GenerateEmbeddings\n",
    "import sys\n",
    "\n",
    "module_path = os.path.abspath(os.path.join('..'))\n",
    "if module_path not in sys.path:\n",
    "    sys.path.append(module_path)\n",
    "\n",
    "sampled_datavals_product=pd.read_parquet(os.path.join(base_dir_path,\"dataset/sampled_dataset/sampled_datavals_product_data.parquet\"))\n",
    "sampled_datavals_product_imbalanced=pd.read_parquet(os.path.join(base_dir_path,\"dataset/sampled_dataset/sampled_datavals_product_data_imbalanced.parquet\"))\n",
    "\n",
    "sampled_queries = pd.read_parquet(os.path.join(base_dir_path,\"dataset/sampled_dataset/sampled_query_examples.parquet\"))\n",
    "\n",
    "\n",
    "dataset_examples=pd.read_parquet(os.path.join(base_dir_path,\"dataset/source_files/shopping_queries_dataset_examples.parquet\"))\n",
    "filt_examples=dataset_examples[(dataset_examples[\"product_locale\"]==\"us\") & (dataset_examples[\"esci_label\"]==\"E\")]\n",
    "\n",
    "class ExperimentIndex:\n",
    "        def __init__(self, index_path, embeddings_obj) -> None:\n",
    "            self.index_path = index_path\n",
    "            self.index = self.load_index(self.index_path)\n",
    "            self.embeddings_obj = embeddings_obj\n",
    "\n",
    "        def load_index(self,index_path):\n",
    "            return faiss.read_index(index_path)\n",
    "        \n",
    "        def experiment_with_index(self,query_val, top_k):\n",
    "            query_embedding = self.embeddings_obj.encode_query(query_val)\n",
    "            relevant_examples_df=filt_examples[filt_examples[\"query\"]==query_val]\n",
    "            relevant_ids=relevant_examples_df[\"product_id\"].tolist()\n",
    "\n",
    "            scores, indices = self.index.search(query_embedding, top_k)\n",
    "            retrieved_examples=sampled_datavals_product[sampled_datavals_product['ID'].isin(indices[0])]\n",
    "            relevant_examples_df=filt_examples[filt_examples[\"query\"]== query_val]\n",
    "            relevant_ids=relevant_examples_df[\"product_id\"].tolist()\n",
    "            \n",
    "            return scores,retrieved_examples, relevant_examples_df\n",
    "        \n",
    "\n",
    "if __name__ == \"__main__\":\n",
    "    generate_embeddings_base_obj=GenerateEmbeddings(model_name=\"intfloat/multilingual-e5-small\")\n",
    "\n",
    "    experiment_index_obj=ExperimentIndex(os.path.join(base_dir_path,\"vector_indexes/balanced_dataset/384dim/product_fields_exclude_desc_384dim_hnsw.index\"), generate_embeddings_base_obj)\n",
    "    scores,retrieved_examples, relevant_examples_df=experiment_index_obj.experiment_with_index(\"vena iphone case\",5)\n",
    "    relevant_examples_df=filt_examples[filt_examples[\"query\"]==\"vena iphone case\"]\n",
    "\n",
    "    print(scores)\n",
    "    print(retrieved_examples)\n",
    "    print(relevant_examples_df)\n",
    "\n",
    "   \n",
    "    "
   ]
  },
  {
   "cell_type": "code",
   "execution_count": 23,
   "metadata": {},
   "outputs": [
    {
     "data": {
      "text/plain": [
       "example_id                 2111746\n",
       "query             vena iphone case\n",
       "query_id                    108170\n",
       "product_id              B078HZZF41\n",
       "product_locale                  us\n",
       "esci_label                       E\n",
       "small_version                    0\n",
       "large_version                    1\n",
       "split                        train\n",
       "Name: 2111746, dtype: object"
      ]
     },
     "execution_count": 23,
     "metadata": {},
     "output_type": "execute_result"
    }
   ],
   "source": [
    "sampled_queries.iloc[0]"
   ]
  },
  {
   "cell_type": "code",
   "execution_count": null,
   "metadata": {},
   "outputs": [],
   "source": []
  }
 ],
 "metadata": {
  "kernelspec": {
   "display_name": "Python 3",
   "language": "python",
   "name": "python3"
  },
  "language_info": {
   "codemirror_mode": {
    "name": "ipython",
    "version": 3
   },
   "file_extension": ".py",
   "mimetype": "text/x-python",
   "name": "python",
   "nbconvert_exporter": "python",
   "pygments_lexer": "ipython3",
   "version": "3.12.3"
  }
 },
 "nbformat": 4,
 "nbformat_minor": 2
}
