{
  "cells": [
    {
      "cell_type": "code",
      "execution_count": null,
      "metadata": {},
      "outputs": [],
      "source": [
        "!pip install ipykernel\n",
        "!pip install pyarrow"
      ]
    },
    {
      "cell_type": "code",
      "execution_count": null,
      "metadata": {},
      "outputs": [],
      "source": [
        "import sys,os\n",
        "venv_path = os.path.join(os.path.dirname(os.getcwd()), 'venv')\n",
        "if os.path.exists(venv_path):\n",
        "    # Add the venv to the path\n",
        "    venv_site_packages = os.path.join(venv_path, 'Lib', 'site-packages')\n",
        "    if venv_site_packages not in sys.path:\n",
        "        sys.path.insert(0, venv_site_packages)\n",
        "    print(f\"Added {venv_site_packages} to Python path\")\n",
        "else:\n",
        "    print(\"Virtual environment not found\")"
      ]
    },
    {
      "cell_type": "code",
      "execution_count": null,
      "metadata": {},
      "outputs": [],
      "source": [
        "import pandas as pd\n",
        "base_dir_path=os.path.dirname(os.getcwd())\n",
        "base_dir_path"
      ]
    },
    {
      "cell_type": "code",
      "execution_count": 43,
      "metadata": {},
      "outputs": [],
      "source": [
        "dataset_products=pd.read_parquet(os.path.join(base_dir_path,\"dataset/source_files/shopping_queries_dataset_products.parquet\"))"
      ]
    },
    {
      "cell_type": "code",
      "execution_count": 44,
      "metadata": {
        "id": "dzG-iFz32INU"
      },
      "outputs": [],
      "source": [
        "dataset_examples=pd.read_parquet(os.path.join(base_dir_path,\"dataset/source_files/shopping_queries_dataset_examples.parquet\"))"
      ]
    },
    {
      "cell_type": "code",
      "execution_count": 45,
      "metadata": {
        "id": "0Lo7fGw22ce3"
      },
      "outputs": [],
      "source": [
        "filt_examples=dataset_examples[(dataset_examples[\"product_locale\"]==\"us\") & (dataset_examples[\"esci_label\"]==\"E\")]"
      ]
    },
    {
      "cell_type": "code",
      "execution_count": 46,
      "metadata": {
        "id": "dH0yeS2D2vjz"
      },
      "outputs": [],
      "source": [
        "sampled_examples=filt_examples.sample(n=50,random_state=42)"
      ]
    },
    {
      "cell_type": "code",
      "execution_count": null,
      "metadata": {
        "colab": {
          "base_uri": "https://localhost:8080/"
        },
        "id": "umWZROgO43Dj",
        "outputId": "172b2979-64b0-4e38-ddea-52c9fbf41c57"
      },
      "outputs": [],
      "source": [
        "len(sampled_examples[\"query\"].unique())"
      ]
    },
    {
      "cell_type": "code",
      "execution_count": 7,
      "metadata": {
        "id": "v7oUoMrZD0C-"
      },
      "outputs": [],
      "source": [
        "sampled_examples.to_parquet(os.path.join( base_dir_path,\"dataset/sampled_dataset/sampled_query_examples.parquet\"))"
      ]
    },
    {
      "cell_type": "code",
      "execution_count": 8,
      "metadata": {
        "id": "7XIOpmyYIOJe"
      },
      "outputs": [],
      "source": [
        "# with above sampled 50 unique queries, creating a dataset of 11 or 10 records per query sampled from filt_examples\n",
        "sampled_dataset = pd.DataFrame()\n",
        "\n",
        "for idx,query in enumerate(sampled_examples[\"query\"].unique()):\n",
        "  query_examples = filt_examples[filt_examples[\"query\"]==query]\n",
        "  sample_cnt=11\n",
        "  if idx>=17 and idx<=40:\n",
        "    sample_cnt=10\n",
        "  query_examples = query_examples.sample(min(sample_cnt, len(query_examples)), random_state=42)\n",
        "  sampled_dataset = pd.concat([sampled_dataset, query_examples])\n",
        "  if len(sampled_dataset) >= 500:\n",
        "    break"
      ]
    },
    {
      "cell_type": "code",
      "execution_count": null,
      "metadata": {
        "colab": {
          "base_uri": "https://localhost:8080/"
        },
        "id": "hRWIyi4mWQYq",
        "outputId": "db35daff-fdef-4fbf-e922-983da00ba2b4"
      },
      "outputs": [],
      "source": [
        "len(sampled_dataset[\"query\"].unique())"
      ]
    },
    {
      "cell_type": "code",
      "execution_count": null,
      "metadata": {
        "colab": {
          "base_uri": "https://localhost:8080/"
        },
        "id": "fyPRC0wxIFrK",
        "outputId": "1fd260a0-ec22-43ea-8729-9ca3594b149c"
      },
      "outputs": [],
      "source": [
        "len(sampled_dataset[\"product_id\"].unique())"
      ]
    },
    {
      "cell_type": "code",
      "execution_count": null,
      "metadata": {
        "colab": {
          "base_uri": "https://localhost:8080/"
        },
        "id": "uyvr8u9aW0cD",
        "outputId": "a7940fea-ecb0-4c93-976b-51853cb0309b"
      },
      "outputs": [],
      "source": [
        "len(sampled_dataset)"
      ]
    },
    {
      "cell_type": "code",
      "execution_count": null,
      "metadata": {
        "colab": {
          "base_uri": "https://localhost:8080/",
          "height": 206
        },
        "id": "gFUSkhC-ITkU",
        "outputId": "9b36c301-3e2d-45cd-d8a5-b566b7cbef21"
      },
      "outputs": [],
      "source": [
        "sampled_dataset.head()"
      ]
    },
    {
      "cell_type": "code",
      "execution_count": 13,
      "metadata": {
        "id": "XNCbF6f9489E"
      },
      "outputs": [],
      "source": [
        "sampled_dataset.to_parquet(os.path.join( base_dir_path,\"dataset/sampled_dataset/sampled_product_ids_dataset.parquet\"))"
      ]
    },
    {
      "cell_type": "code",
      "execution_count": null,
      "metadata": {
        "colab": {
          "base_uri": "https://localhost:8080/",
          "height": 147
        },
        "id": "vO_OznUg5wA9",
        "outputId": "d722e762-112f-4835-9440-a421bed8aa51"
      },
      "outputs": [],
      "source": [
        "sampled_dataset[\"esci_label\"].value_counts()\n",
        "# dataset[\"product_locale\"].value_counts()"
      ]
    },
    {
      "cell_type": "code",
      "execution_count": 15,
      "metadata": {
        "id": "FDiX-aOZfrdN"
      },
      "outputs": [],
      "source": [
        "sampled_dataset_product_ids=sampled_dataset[\"product_id\"].tolist()"
      ]
    },
    {
      "cell_type": "code",
      "execution_count": null,
      "metadata": {
        "colab": {
          "base_uri": "https://localhost:8080/"
        },
        "id": "mI6JAbMAj2fp",
        "outputId": "098e0a51-ed5d-4256-c3ea-e33e64fe363c"
      },
      "outputs": [],
      "source": [
        "len(sampled_dataset_product_ids)"
      ]
    },
    {
      "cell_type": "code",
      "execution_count": 17,
      "metadata": {
        "id": "-lAroGR7lX-2"
      },
      "outputs": [],
      "source": [
        "sampled_datavals_products=dataset_products[(dataset_products[\"product_id\"].isin(sampled_dataset_product_ids)) & (dataset_products[\"product_locale\"]==\"us\")]"
      ]
    },
    {
      "cell_type": "code",
      "execution_count": null,
      "metadata": {
        "colab": {
          "base_uri": "https://localhost:8080/",
          "height": 615
        },
        "id": "zTN-_iFXFc6c",
        "outputId": "935816b4-bbec-4b24-ab4c-66414d92023a"
      },
      "outputs": [],
      "source": [
        "sampled_datavals_products"
      ]
    },
    {
      "cell_type": "code",
      "execution_count": null,
      "metadata": {
        "colab": {
          "base_uri": "https://localhost:8080/",
          "height": 35
        },
        "id": "-19fff3esmWj",
        "outputId": "96b77021-82b0-4be3-8180-232198b4d98d"
      },
      "outputs": [],
      "source": [
        "sampled_datavals_products.iloc[0][\"product_title\"]"
      ]
    },
    {
      "cell_type": "code",
      "execution_count": null,
      "metadata": {
        "colab": {
          "base_uri": "https://localhost:8080/",
          "height": 54
        },
        "id": "9HLAB-1wtel7",
        "outputId": "2082891a-6e01-47e4-ec78-b2ee25b3ab61"
      },
      "outputs": [],
      "source": [
        "sampled_datavals_products.iloc[0][\"product_description\"]"
      ]
    },
    {
      "cell_type": "code",
      "execution_count": null,
      "metadata": {
        "colab": {
          "base_uri": "https://localhost:8080/",
          "height": 54
        },
        "id": "Up1iUs-WtmeE",
        "outputId": "701791f3-d0c6-4376-b1b7-3c9546344747"
      },
      "outputs": [],
      "source": [
        "sampled_datavals_products.iloc[0][\"product_bullet_point\"]"
      ]
    },
    {
      "cell_type": "code",
      "execution_count": 22,
      "metadata": {
        "id": "IfRdb-pgs4-c"
      },
      "outputs": [],
      "source": [
        "sampled_datavals_products.to_parquet(os.path.join( base_dir_path,\"dataset/sampled_dataset/sampled_datavals_product_data.parquet\"))"
      ]
    },
    {
      "cell_type": "code",
      "execution_count": 58,
      "metadata": {},
      "outputs": [],
      "source": [
        "sampled_examples=pd.read_parquet(os.path.join( base_dir_path,\"dataset/sampled_dataset/sampled_query_examples.parquet\"))"
      ]
    },
    {
      "cell_type": "code",
      "execution_count": 70,
      "metadata": {
        "colab": {
          "base_uri": "https://localhost:8080/",
          "height": 615
        },
        "id": "w91zovD3IzP7",
        "outputId": "ae3ffab4-6632-4c54-d67e-6aeadfaebc18"
      },
      "outputs": [],
      "source": [
        "sampled_dataset_imbalanced = pd.DataFrame()\n",
        "\n",
        "for idx,query in enumerate(sampled_examples[\"query\"].unique()):\n",
        "  query_examples = filt_examples[filt_examples[\"query\"]==query]\n",
        "  sampled_dataset_imbalanced = pd.concat([sampled_dataset_imbalanced, query_examples])\n",
        "  if len(sampled_dataset_imbalanced) >= 500:\n",
        "    break"
      ]
    },
    {
      "cell_type": "code",
      "execution_count": 72,
      "metadata": {},
      "outputs": [
        {
          "data": {
            "text/plain": [
              "500"
            ]
          },
          "execution_count": 72,
          "metadata": {},
          "output_type": "execute_result"
        }
      ],
      "source": [
        "sampled_dataset_imbalanced = sampled_dataset_imbalanced[:500]\n",
        "len(sampled_dataset_imbalanced)"
      ]
    },
    {
      "cell_type": "code",
      "execution_count": 73,
      "metadata": {},
      "outputs": [
        {
          "data": {
            "text/plain": [
              "33"
            ]
          },
          "execution_count": 73,
          "metadata": {},
          "output_type": "execute_result"
        }
      ],
      "source": [
        "len(sampled_dataset_imbalanced[\"query\"].unique())"
      ]
    },
    {
      "cell_type": "code",
      "execution_count": 74,
      "metadata": {},
      "outputs": [
        {
          "data": {
            "text/plain": [
              "query\n",
              "toaster                                   29\n",
              "flamingos                                 27\n",
              "xbox one                                  27\n",
              "toy airplane                              25\n",
              "your germs are too big for me sign        19\n",
              "food socks                                16\n",
              "bafang                                    16\n",
              "eye trimmer for women                     16\n",
              "rainproof car mirror sticker              16\n",
              "fabric freshener spray                    16\n",
              "face crayons                              16\n",
              "jigsaw puzzles for older adults           16\n",
              "bottle feeding                            16\n",
              "brown shoes                               16\n",
              "pumpkin carving kit                       16\n",
              "twin air mattress                         15\n",
              "fringe trim                               15\n",
              "couch patch                               15\n",
              "lingerie set for women                    15\n",
              "lysol bathroom cleaner                    15\n",
              "asian snacks                              15\n",
              "cover up for bathing suits for women      15\n",
              "vena iphone case                          14\n",
              "nut and fruit basket                      14\n",
              "baby spice costume                        13\n",
              "kurta men                                 11\n",
              "football live                             11\n",
              "workout hoodie                            10\n",
              "abode security system                      9\n",
              "leggings with pockets not high waisted     7\n",
              "white plant stand with drawer              7\n",
              "friction strips                            6\n",
              "baseball tee                               6\n",
              "Name: count, dtype: int64"
            ]
          },
          "execution_count": 74,
          "metadata": {},
          "output_type": "execute_result"
        }
      ],
      "source": [
        "sampled_dataset_imbalanced[\"query\"].value_counts()"
      ]
    },
    {
      "cell_type": "code",
      "execution_count": 75,
      "metadata": {},
      "outputs": [],
      "source": [
        "sampled_dataset_imbalanced_product_ids=sampled_dataset_imbalanced[\"product_id\"].tolist()"
      ]
    },
    {
      "cell_type": "code",
      "execution_count": 76,
      "metadata": {},
      "outputs": [],
      "source": [
        "sampled_datavals_products_imbalanced=dataset_products[(dataset_products[\"product_id\"].isin(sampled_dataset_imbalanced_product_ids)) & (dataset_products[\"product_locale\"]==\"us\")]"
      ]
    },
    {
      "cell_type": "code",
      "execution_count": 77,
      "metadata": {
        "colab": {
          "base_uri": "https://localhost:8080/",
          "height": 424
        },
        "id": "Zlyu18XJI2K3",
        "outputId": "fa050e27-9755-4ea1-b30d-abc426c3151b"
      },
      "outputs": [],
      "source": [
        "sampled_datavals_products_imbalanced.to_parquet(os.path.join( base_dir_path,\"dataset/sampled_dataset/sampled_datavals_product_data_imbalanced.parquet\"))"
      ]
    },
    {
      "cell_type": "code",
      "execution_count": null,
      "metadata": {},
      "outputs": [],
      "source": []
    }
  ],
  "metadata": {
    "colab": {
      "provenance": []
    },
    "kernelspec": {
      "display_name": "base",
      "language": "python",
      "name": "python3"
    },
    "language_info": {
      "codemirror_mode": {
        "name": "ipython",
        "version": 3
      },
      "file_extension": ".py",
      "mimetype": "text/x-python",
      "name": "python",
      "nbconvert_exporter": "python",
      "pygments_lexer": "ipython3",
      "version": "3.12.4"
    }
  },
  "nbformat": 4,
  "nbformat_minor": 0
}
