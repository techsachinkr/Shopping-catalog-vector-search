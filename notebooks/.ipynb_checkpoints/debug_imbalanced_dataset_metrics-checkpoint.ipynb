{
 "cells": [
  {
   "cell_type": "code",
   "execution_count": 3,
   "id": "674ac0ab-8aeb-4556-82da-57befc5a7b5d",
   "metadata": {},
   "outputs": [],
   "source": [
    "import pandas as pd\n",
    "import os\n",
    "base_dir_path=os.path.dirname(os.getcwd())"
   ]
  },
  {
   "cell_type": "code",
   "execution_count": 5,
   "id": "6fee5b44-04cb-419f-8720-130770310eff",
   "metadata": {},
   "outputs": [
    {
     "data": {
      "text/plain": [
       "'C:\\\\Users\\\\sachi\\\\cursor projects\\\\Shopping-catalog-vector-search'"
      ]
     },
     "execution_count": 5,
     "metadata": {},
     "output_type": "execute_result"
    }
   ],
   "source": [
    "base_dir_path"
   ]
  },
  {
   "cell_type": "code",
   "execution_count": 9,
   "id": "eeb31fc2-4f1d-4cea-b977-cb69d7f990ff",
   "metadata": {},
   "outputs": [],
   "source": [
    "sampled_examples=pd.read_parquet(os.path.join(base_dir_path, \"dataset/sampled_dataset/sampled_query_examples.parquet\"))"
   ]
  },
  {
   "cell_type": "code",
   "execution_count": 15,
   "id": "dde0427d-039d-484c-98eb-1e55e9a7ec56",
   "metadata": {},
   "outputs": [],
   "source": [
    "sampled_examples_imb= pd.read_parquet(os.path.join(base_dir_path, \"dataset/sampled_dataset/sampled_datavals_product_data_imbalanced.parquet\"))"
   ]
  },
  {
   "cell_type": "code",
   "execution_count": 19,
   "id": "a80c9714-12f2-42d5-b8be-b956f449f1ea",
   "metadata": {},
   "outputs": [],
   "source": [
    "sampled_examples_imb_prod_ids=sampled_examples_imb[\"product_id\"].tolist()"
   ]
  },
  {
   "cell_type": "code",
   "execution_count": 51,
   "id": "8d7b1272-6317-4e13-9f23-35a1ec38496b",
   "metadata": {},
   "outputs": [],
   "source": [
    "imb_queries_df=sampled_examples[sampled_examples[\"product_id\"].isin(sampled_examples_imb_prod_ids)]\n",
    "imb_missing_queries_df=sampled_examples[~sampled_examples[\"product_id\"].isin(sampled_examples_imb_prod_ids)]"
   ]
  },
  {
   "cell_type": "code",
   "execution_count": 27,
   "id": "46f1fcff-ba18-4382-83db-a97f34507f55",
   "metadata": {},
   "outputs": [
    {
     "data": {
      "text/plain": [
       "33"
      ]
     },
     "execution_count": 27,
     "metadata": {},
     "output_type": "execute_result"
    }
   ],
   "source": [
    "len(imb_queries_df)"
   ]
  },
  {
   "cell_type": "code",
   "execution_count": 53,
   "id": "a2e50f45-a708-429e-b7e0-8eaeb7b696bf",
   "metadata": {},
   "outputs": [
    {
     "data": {
      "text/plain": [
       "17"
      ]
     },
     "execution_count": 53,
     "metadata": {},
     "output_type": "execute_result"
    }
   ],
   "source": [
    "len(imb_missing_queries_df)"
   ]
  },
  {
   "cell_type": "code",
   "execution_count": 33,
   "id": "0dcd2ab5-d3c6-425a-a889-6df943ae9410",
   "metadata": {},
   "outputs": [],
   "source": [
    "imb_metrics=pd.read_excel(os.path.join(base_dir_path, \"metrics/debug_metrics.xlsx\"))"
   ]
  },
  {
   "cell_type": "code",
   "execution_count": 47,
   "id": "cd8f5fb4-6e4b-442e-8dff-b8fff15f1ea5",
   "metadata": {},
   "outputs": [],
   "source": [
    "import ast\n",
    "def processMetrics(vals):\n",
    "    currval=ast.literal_eval(vals)\n",
    "    return currval[10][0], currval[5][0],currval[1][0]\n",
    "imb_metrics[\"HITS@10\"],imb_metrics[\"HITS@5\"],imb_metrics[\"HITS@1\"] = zip(*imb_metrics[\"HITS@k\"].apply(lambda x:processMetrics(x)))"
   ]
  },
  {
   "cell_type": "code",
   "execution_count": 55,
   "id": "b125d6be-522d-447d-b172-63741c807fd1",
   "metadata": {},
   "outputs": [],
   "source": [
    "queries_missing = imb_missing_queries_df[\"query\"].tolist()"
   ]
  },
  {
   "cell_type": "code",
   "execution_count": 59,
   "id": "dbb9ba92-6822-4ca7-b963-23e82f2b27b3",
   "metadata": {},
   "outputs": [],
   "source": [
    "missing_queries_metrics=imb_metrics[imb_metrics[\"queryval\"].isin(queries_missing)]"
   ]
  },
  {
   "cell_type": "code",
   "execution_count": 63,
   "id": "6a06df6d-e662-4fb8-bb0e-d6556b158a20",
   "metadata": {},
   "outputs": [
    {
     "data": {
      "text/plain": [
       "0.4117647058823529"
      ]
     },
     "execution_count": 63,
     "metadata": {},
     "output_type": "execute_result"
    }
   ],
   "source": [
    "missing_queries_metrics[\"HITS@10\"].mean()"
   ]
  },
  {
   "cell_type": "code",
   "execution_count": 65,
   "id": "f6aa73e7-7924-4c3f-8540-4be173cbafdc",
   "metadata": {},
   "outputs": [
    {
     "data": {
      "text/plain": [
       "0.4117647058823529"
      ]
     },
     "execution_count": 65,
     "metadata": {},
     "output_type": "execute_result"
    }
   ],
   "source": [
    "missing_queries_metrics[\"HITS@5\"].mean()"
   ]
  },
  {
   "cell_type": "code",
   "execution_count": 67,
   "id": "049154d0-fb19-431b-9e4a-1d4caba4e2e4",
   "metadata": {},
   "outputs": [
    {
     "data": {
      "text/plain": [
       "0.11764705882352941"
      ]
     },
     "execution_count": 67,
     "metadata": {},
     "output_type": "execute_result"
    }
   ],
   "source": [
    "missing_queries_metrics[\"HITS@1\"].mean()"
   ]
  },
  {
   "cell_type": "code",
   "execution_count": 69,
   "id": "df1de5c1-4a84-441a-81aa-d295bb3453fb",
   "metadata": {},
   "outputs": [],
   "source": [
    "queries_overlap = imb_queries_df[\"query\"].tolist()"
   ]
  },
  {
   "cell_type": "code",
   "execution_count": 71,
   "id": "cbb7bd4b-7da1-448f-82cc-954c02ff74f8",
   "metadata": {},
   "outputs": [],
   "source": [
    "overlap_queries_metrics=imb_metrics[imb_metrics[\"queryval\"].isin(queries_overlap)]"
   ]
  },
  {
   "cell_type": "code",
   "execution_count": 73,
   "id": "402841fe-36a1-4b9f-b126-b23f108630de",
   "metadata": {},
   "outputs": [
    {
     "data": {
      "text/plain": [
       "0.5757575757575758"
      ]
     },
     "execution_count": 73,
     "metadata": {},
     "output_type": "execute_result"
    }
   ],
   "source": [
    "overlap_queries_metrics[\"HITS@10\"].mean()"
   ]
  },
  {
   "cell_type": "code",
   "execution_count": 75,
   "id": "1517b150-c866-4c11-91a5-8ce28ab2950d",
   "metadata": {},
   "outputs": [
    {
     "data": {
      "text/plain": [
       "0.45454545454545453"
      ]
     },
     "execution_count": 75,
     "metadata": {},
     "output_type": "execute_result"
    }
   ],
   "source": [
    "overlap_queries_metrics[\"HITS@5\"].mean()"
   ]
  },
  {
   "cell_type": "code",
   "execution_count": 77,
   "id": "a2854b28-0c2e-49ba-90ef-d7dc226dd3f9",
   "metadata": {},
   "outputs": [
    {
     "data": {
      "text/plain": [
       "0.21212121212121213"
      ]
     },
     "execution_count": 77,
     "metadata": {},
     "output_type": "execute_result"
    }
   ],
   "source": [
    "overlap_queries_metrics[\"HITS@1\"].mean()"
   ]
  },
  {
   "cell_type": "code",
   "execution_count": null,
   "id": "872ddaaf-dea8-4aa6-8b6e-da5f6ded1b45",
   "metadata": {},
   "outputs": [],
   "source": []
  }
 ],
 "metadata": {
  "kernelspec": {
   "display_name": "Python 3 (ipykernel)",
   "language": "python",
   "name": "python3"
  },
  "language_info": {
   "codemirror_mode": {
    "name": "ipython",
    "version": 3
   },
   "file_extension": ".py",
   "mimetype": "text/x-python",
   "name": "python",
   "nbconvert_exporter": "python",
   "pygments_lexer": "ipython3",
   "version": "3.12.4"
  }
 },
 "nbformat": 4,
 "nbformat_minor": 5
}
